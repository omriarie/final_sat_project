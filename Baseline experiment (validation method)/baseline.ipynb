{
  "nbformat": 4,
  "nbformat_minor": 0,
  "metadata": {
    "colab": {
      "provenance": []
    },
    "kernelspec": {
      "name": "python3",
      "display_name": "Python 3"
    },
    "language_info": {
      "name": "python"
    }
  },
  "cells": [
    {
      "cell_type": "code",
      "execution_count": null,
      "metadata": {
        "id": "uAk2-f1PKeFQ",
        "colab": {
          "base_uri": "https://localhost:8080/"
        },
        "outputId": "849a8f34-b894-4e3d-8c75-616a0aceab4f"
      },
      "outputs": [
        {
          "output_type": "stream",
          "name": "stdout",
          "text": [
            "Mounted at /content/drive\n"
          ]
        }
      ],
      "source": [
        "from google.colab import drive\n",
        "drive.mount('/content/drive')\n"
      ]
    },
    {
      "cell_type": "code",
      "source": [
        "!pip install rasterio\n"
      ],
      "metadata": {
        "colab": {
          "base_uri": "https://localhost:8080/"
        },
        "id": "MUJkBAVuIr2B",
        "outputId": "cc8aa9b3-47a1-4764-b9dd-74c372226186"
      },
      "execution_count": null,
      "outputs": [
        {
          "output_type": "stream",
          "name": "stdout",
          "text": [
            "Collecting rasterio\n",
            "  Downloading rasterio-1.4.3-cp311-cp311-manylinux_2_17_x86_64.manylinux2014_x86_64.whl.metadata (9.1 kB)\n",
            "Collecting affine (from rasterio)\n",
            "  Downloading affine-2.4.0-py3-none-any.whl.metadata (4.0 kB)\n",
            "Requirement already satisfied: attrs in /usr/local/lib/python3.11/dist-packages (from rasterio) (25.3.0)\n",
            "Requirement already satisfied: certifi in /usr/local/lib/python3.11/dist-packages (from rasterio) (2025.1.31)\n",
            "Requirement already satisfied: click>=4.0 in /usr/local/lib/python3.11/dist-packages (from rasterio) (8.1.8)\n",
            "Collecting cligj>=0.5 (from rasterio)\n",
            "  Downloading cligj-0.7.2-py3-none-any.whl.metadata (5.0 kB)\n",
            "Requirement already satisfied: numpy>=1.24 in /usr/local/lib/python3.11/dist-packages (from rasterio) (2.0.2)\n",
            "Collecting click-plugins (from rasterio)\n",
            "  Downloading click_plugins-1.1.1-py2.py3-none-any.whl.metadata (6.4 kB)\n",
            "Requirement already satisfied: pyparsing in /usr/local/lib/python3.11/dist-packages (from rasterio) (3.2.3)\n",
            "Downloading rasterio-1.4.3-cp311-cp311-manylinux_2_17_x86_64.manylinux2014_x86_64.whl (22.2 MB)\n",
            "\u001b[2K   \u001b[90m━━━━━━━━━━━━━━━━━━━━━━━━━━━━━━━━━━━━━━━━\u001b[0m \u001b[32m22.2/22.2 MB\u001b[0m \u001b[31m70.3 MB/s\u001b[0m eta \u001b[36m0:00:00\u001b[0m\n",
            "\u001b[?25hDownloading cligj-0.7.2-py3-none-any.whl (7.1 kB)\n",
            "Downloading affine-2.4.0-py3-none-any.whl (15 kB)\n",
            "Downloading click_plugins-1.1.1-py2.py3-none-any.whl (7.5 kB)\n",
            "Installing collected packages: cligj, click-plugins, affine, rasterio\n",
            "Successfully installed affine-2.4.0 click-plugins-1.1.1 cligj-0.7.2 rasterio-1.4.3\n"
          ]
        }
      ]
    },
    {
      "cell_type": "code",
      "source": [
        "import shutil\n",
        "import os\n",
        "\n",
        "# Set your folder name on Drive\n",
        "drive_tif_path = \"/content/drive/MyDrive/final_project/ONLY_TIF\"\n",
        "local_tif_path = \"/content/ONLY_TIF\"\n",
        "\n",
        "# Copy recursively to Colab local runtime\n",
        "if not os.path.exists(local_tif_path):\n",
        "    shutil.copytree(drive_tif_path, local_tif_path)\n",
        "else:\n",
        "    print(\"✅ Local folder already exists\")\n"
      ],
      "metadata": {
        "id": "SQvlvLd5ItXN"
      },
      "execution_count": null,
      "outputs": []
    },
    {
      "cell_type": "code",
      "source": [
        "import pandas as pd\n",
        "\n",
        "def make_triplet_csv(source_dir, output_csv_path):\n",
        "    data = []\n",
        "    id_counter = 1\n",
        "\n",
        "    for root, _, files in os.walk(source_dir):\n",
        "        files = [f for f in files if f.lower().endswith('.tif')]\n",
        "        if not files:\n",
        "            continue\n",
        "\n",
        "        goes1 = goes2 = viirs = None\n",
        "        for f in files:\n",
        "            f_lower = f.lower()\n",
        "            full_path = os.path.join(root, f)\n",
        "            rel_path = os.path.relpath(full_path, source_dir)\n",
        "\n",
        "            if 'geo16' in f_lower:\n",
        "                goes1 = os.path.join(source_dir, rel_path)\n",
        "            elif 'geo17' in f_lower:\n",
        "                goes2 = os.path.join(source_dir, rel_path)\n",
        "            elif 'geo18' in f_lower and goes2 is None:\n",
        "                goes2 = os.path.join(source_dir, rel_path)\n",
        "            elif 'combined' in f_lower:\n",
        "                viirs = os.path.join(source_dir, rel_path)\n",
        "\n",
        "        if goes1 and goes2 and viirs:\n",
        "            data.append({\n",
        "                'id': id_counter,\n",
        "                'goes1_path': goes1,\n",
        "                'goes2_path': goes2,\n",
        "                'viirs_path': viirs,\n",
        "            })\n",
        "            id_counter += 1\n",
        "\n",
        "    df = pd.DataFrame(data)\n",
        "    df.to_csv(output_csv_path, index=False)\n",
        "    print(f\"✅ CSV saved to {output_csv_path} with {len(df)} triplets.\")\n",
        "\n",
        "make_triplet_csv(\"/content/ONLY_TIF\", \"/content/superres_triplets.csv\")\n"
      ],
      "metadata": {
        "colab": {
          "base_uri": "https://localhost:8080/"
        },
        "id": "ITr_4s9tIuqD",
        "outputId": "8d7da98b-ae46-4623-c168-9224fc97968c"
      },
      "execution_count": null,
      "outputs": [
        {
          "output_type": "stream",
          "name": "stdout",
          "text": [
            "✅ CSV saved to /content/superres_triplets.csv with 1260 triplets.\n"
          ]
        }
      ]
    },
    {
      "cell_type": "markdown",
      "source": [
        "# first try"
      ],
      "metadata": {
        "id": "Ixi8WNQDtSOZ"
      }
    },
    {
      "cell_type": "code",
      "source": [
        "import torch\n",
        "import torch.nn.functional as F\n",
        "import numpy as np\n",
        "import rasterio\n",
        "import pandas as pd\n",
        "from skimage.metrics import peak_signal_noise_ratio as psnr\n",
        "from tqdm import tqdm\n",
        "import json\n",
        "import os\n",
        "\n",
        "# Load fixed normalization ranges\n",
        "with open(\"/content/radiance_visualization_ranges.json\", \"r\") as f:\n",
        "    fixed_ranges = json.load(f)\n",
        "\n",
        "viirs_min = fixed_ranges[\"VIIRS\"][\"p0.5\"]\n",
        "viirs_max = fixed_ranges[\"VIIRS\"][\"p99.5\"]\n",
        "viirs_range = viirs_max - viirs_min\n",
        "\n",
        "# Updated load_band with proper anomaly handling\n",
        "def load_band(path):\n",
        "    filename = os.path.basename(path).lower()\n",
        "    is_viirs = \"viirs\" in filename or \"combined_clip\" in filename\n",
        "    band_index = 1 if is_viirs else 7\n",
        "\n",
        "    with rasterio.open(path) as src:\n",
        "        image = src.read(band_index).astype(np.float32)\n",
        "\n",
        "    mask = ~(np.isnan(image) | np.isinf(image))\n",
        "    if np.any(mask):\n",
        "        mean_val = image[mask].mean()\n",
        "        image = np.where(mask, image, mean_val)\n",
        "    else:\n",
        "        image = np.zeros_like(image)\n",
        "\n",
        "    return image\n",
        "\n",
        "# Load triplets\n",
        "df = pd.read_csv(\"/content/superres_triplets.csv\")\n",
        "\n",
        "baseline_psnrs = {}\n",
        "psnr_values = []\n",
        "\n",
        "for _, row in tqdm(df.iterrows(), total=len(df), desc=\"Computing normalized ESA baseline PSNR\"):\n",
        "    triplet_id = str(row[\"id\"])\n",
        "\n",
        "    goes1 = load_band(row[\"goes1_path\"])\n",
        "    goes2 = load_band(row[\"goes2_path\"])\n",
        "    viirs = load_band(row[\"viirs_path\"])\n",
        "\n",
        "    g1 = torch.from_numpy(goes1).unsqueeze(0).unsqueeze(0)\n",
        "    g2 = torch.from_numpy(goes2).unsqueeze(0).unsqueeze(0)\n",
        "\n",
        "    H, W = viirs.shape\n",
        "    g1_hr = F.interpolate(g1, size=(H, W), mode='bicubic', align_corners=False)\n",
        "    g2_hr = F.interpolate(g2, size=(H, W), mode='bicubic', align_corners=False)\n",
        "\n",
        "    baseline_pred = ((g1_hr + g2_hr) / 2).squeeze().numpy()\n",
        "\n",
        "    # Normalize using global VIIRS range\n",
        "    viirs_np = (viirs - viirs_min) / viirs_range\n",
        "    baseline_pred = (baseline_pred - viirs_min) / viirs_range\n",
        "\n",
        "    viirs_np = np.clip(viirs_np, 0, 1)\n",
        "    baseline_pred = np.clip(baseline_pred, 0, 1)\n",
        "\n",
        "    score = psnr(viirs_np, baseline_pred, data_range=1.0)\n",
        "    baseline_psnrs[triplet_id] = float(score)\n",
        "    psnr_values.append(score)\n",
        "\n",
        "mean_baseline = float(np.mean(psnr_values))\n",
        "\n",
        "baseline_output = {\n",
        "    \"mean_baseline_psnr\": mean_baseline,\n",
        "    \"per_triplet_scores\": baseline_psnrs\n",
        "}\n",
        "\n",
        "with open(\"/content/esa_baseline_normalized_psnr.json\", \"w\") as f:\n",
        "    json.dump(baseline_output, f, indent=2)\n",
        "\n",
        "print(f\"✅ Normalized ESA baseline complete — mean PSNR: {mean_baseline:.8f} dB\")\n",
        "print(\"Saved to: /content/esa_baseline_normalized_psnr.json\")\n"
      ],
      "metadata": {
        "colab": {
          "base_uri": "https://localhost:8080/"
        },
        "id": "X3Eo7ob7Iv5T",
        "outputId": "e9b27532-63b1-472f-bf95-c445a53e4d2c"
      },
      "execution_count": null,
      "outputs": [
        {
          "output_type": "stream",
          "name": "stderr",
          "text": [
            "Computing normalized ESA baseline PSNR: 100%|██████████| 1260/1260 [01:14<00:00, 16.99it/s]"
          ]
        },
        {
          "output_type": "stream",
          "name": "stdout",
          "text": [
            "✅ Normalized ESA baseline complete — mean PSNR: 7.41 dB\n",
            "Saved to: /content/esa_baseline_normalized_psnr.json\n"
          ]
        },
        {
          "output_type": "stream",
          "name": "stderr",
          "text": [
            "\n"
          ]
        }
      ]
    },
    {
      "cell_type": "markdown",
      "source": [
        "# second try"
      ],
      "metadata": {
        "id": "3UwdBL4itU48"
      }
    },
    {
      "cell_type": "code",
      "source": [
        "\"\"\"\n",
        "ESA‑style baseline cPSNR for one month (2023‑02) — *clean version*\n",
        "------------------------------------------------------------------\n",
        "Paste this as‑is.  It contains three additions compared with your\n",
        "original script:\n",
        "\n",
        "1.  Separate GOES and VIIRS normalisation ranges\n",
        "2.  Kelvin ‘clear‑pixel’ quality mask + brightness‑bias cPSNR\n",
        "3.  Shared cpsnr() helper (replaces compute_cpsnr)\n",
        "\"\"\"\n",
        "\n",
        "import os\n",
        "import json\n",
        "import numpy as np\n",
        "import pandas as pd\n",
        "import torch\n",
        "import torch.nn.functional as F\n",
        "import rasterio\n",
        "from tqdm import tqdm\n",
        "\n",
        "# ---------------------------  RANGES  ----------------------------\n",
        "with open(\"/content/radiance_visualization_ranges.json\", \"r\") as f:\n",
        "    _rng = json.load(f)\n",
        "\n",
        "GOES_MIN = _rng[\"GOES\"][\"p2\"]        # use p2 / p98 if you prefer\n",
        "GOES_MAX = _rng[\"GOES\"][\"p98\"]\n",
        "GOES_RANGE = GOES_MAX - GOES_MIN\n",
        "\n",
        "VIIRS_MIN = _rng[\"VIIRS\"][\"p2\"]\n",
        "VIIRS_MAX = _rng[\"VIIRS\"][\"p98\"]\n",
        "VIIRS_RANGE = VIIRS_MAX - VIIRS_MIN\n",
        "\n",
        "# ------------------------  HELPER FUNCS  -------------------------\n",
        "def load_band(path: str) -> np.ndarray:\n",
        "    \"\"\"Read one spectral band (GOES‑7 or VIIRS) as float32 numpy.\"\"\"\n",
        "    filename = os.path.basename(path).lower()\n",
        "    is_viirs   = \"viirs\" in filename or \"combined_clip\" in filename\n",
        "    band_index = 1 if is_viirs else 7                       # VIIRS‑I4 / GOES‑7\n",
        "    with rasterio.open(path) as src:\n",
        "        img = src.read(band_index).astype(np.float32)\n",
        "\n",
        "    # replace NaN / ±inf with per‑image mean\n",
        "    mask = ~(np.isnan(img) | np.isinf(img))\n",
        "    img  = np.where(mask, img, img[mask].mean() if mask.any() else 0.0)\n",
        "    return img\n",
        "\n",
        "# ------------------------------------------------------------------\n",
        "\n",
        "def cpsnr(gt: np.ndarray, pred: np.ndarray, mask: np.ndarray) -> float:\n",
        "    \"\"\"Corrected PSNR (Kelvin): brightness‑bias + clear‑pixel mask.\"\"\"\n",
        "    diff = (gt - pred) * mask\n",
        "    b    = diff.sum() / (mask.sum() + 1e-8)                 # brightness bias\n",
        "    cmse = ((gt - pred + b) ** 2 * mask).sum() / (mask.sum() + 1e-8)\n",
        "    return -10.0 * np.log10(cmse + 1e-8)\n",
        "\n",
        "# ---------------------------  MAIN LOOP  -------------------------\n",
        "df  = pd.read_csv(\"/content/superres_triplets.csv\")\n",
        "df  = df[df[\"goes1_path\"].str.contains(\"2023-02\")].copy()   # Feb‑2023 only\n",
        "\n",
        "triplet_scores, psnrs = {}, []\n",
        "\n",
        "for _, row in tqdm(df.iterrows(),\n",
        "                   total=len(df),\n",
        "                   desc=\"Baseline cPSNR 2023‑02\"):\n",
        "    tid = str(row[\"id\"])\n",
        "\n",
        "    goes1 = load_band(row[\"goes1_path\"])\n",
        "    goes2 = load_band(row[\"goes2_path\"])\n",
        "    viirs = load_band(row[\"viirs_path\"])\n",
        "\n",
        "    # upscale GOES to VIIRS grid\n",
        "    g1_hr = F.interpolate(torch.from_numpy(goes1)[None, None, ...],\n",
        "                          size=viirs.shape, mode=\"bicubic\",\n",
        "                          align_corners=False).squeeze().numpy()\n",
        "    g2_hr = F.interpolate(torch.from_numpy(goes2)[None, None, ...],\n",
        "                          size=viirs.shape, mode=\"bicubic\",\n",
        "                          align_corners=False).squeeze().numpy()\n",
        "\n",
        "    baseline_pred = 0.5 * (g1_hr + g2_hr)\n",
        "\n",
        "    # --------------------  NORMALISE + CLIP  --------------------\n",
        "    viirs_norm    = np.clip((viirs         - VIIRS_MIN) / VIIRS_RANGE,  0, 1)\n",
        "    baseline_norm = np.clip((baseline_pred - GOES_MIN) / GOES_RANGE,   0, 1)\n",
        "\n",
        "    # --------------------  CLEAR‑PIXEL MASK  --------------------\n",
        "    cpsnr_val = cpsnr(viirs_norm, baseline_norm, np.ones_like(viirs_norm))\n",
        "\n",
        "    triplet_scores[tid] = float(cpsnr_val)\n",
        "    psnrs.append(cpsnr_val)\n",
        "\n",
        "mean_cpsnr = float(np.mean(psnrs))\n",
        "\n",
        "# ---------------------------  OUTPUT  ----------------------------\n",
        "out = {\n",
        "    \"mean_baseline_cpsnr\": mean_cpsnr,\n",
        "    \"per_triplet_scores\":   triplet_scores\n",
        "}\n",
        "out_path = \"/content/esa_baseline_2023_02_cpsnr.json\"\n",
        "with open(out_path, \"w\") as f:\n",
        "    json.dump(out, f, indent=2)\n",
        "\n",
        "print(f\"✅ ESA baseline complete — mean cPSNR: {mean_cpsnr:.2f} dB\")\n",
        "print(f\"   Saved to: {out_path}\")\n"
      ],
      "metadata": {
        "colab": {
          "base_uri": "https://localhost:8080/"
        },
        "id": "pFegG1lXtWec",
        "outputId": "874b3011-3bf7-483f-d2be-f7de5f2ebf48"
      },
      "execution_count": null,
      "outputs": [
        {
          "output_type": "stream",
          "name": "stderr",
          "text": [
            "Baseline cPSNR 2023‑02: 100%|██████████| 29/29 [00:00<00:00, 37.32it/s]"
          ]
        },
        {
          "output_type": "stream",
          "name": "stdout",
          "text": [
            "✅ ESA baseline complete — mean cPSNR: 10.67 dB\n",
            "   Saved to: /content/esa_baseline_2023_02_cpsnr.json\n"
          ]
        },
        {
          "output_type": "stream",
          "name": "stderr",
          "text": [
            "\n"
          ]
        }
      ]
    }
  ]
}