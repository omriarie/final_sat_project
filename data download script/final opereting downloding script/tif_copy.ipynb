{
 "cells": [
  {
   "cell_type": "code",
   "metadata": {
    "ExecuteTime": {
     "end_time": "2025-03-25T13:39:59.811291Z",
     "start_time": "2025-03-25T13:39:09.512805Z"
    }
   },
   "source": [
    "import os\n",
    "import shutil\n",
    "\n",
    "source_folder = r'W:\\Sat_Project\\Processed\\VALID'\n",
    "dest_folder = r'W:\\Sat_Project\\Processed\\ONLY_TIF'\n",
    "\n",
    "for root, dirs, files in os.walk(source_folder):\n",
    "    # Filter .tif files\n",
    "    tif_files = [f for f in files if f.lower().endswith('.tif')]\n",
    "    \n",
    "    # Skip if no .tif files in the current folder\n",
    "    if not tif_files:\n",
    "        continue\n",
    "    \n",
    "    # Determine relative path to replicate the structure\n",
    "    relative_path = os.path.relpath(root, source_folder)\n",
    "    new_dest_folder = os.path.join(dest_folder, relative_path)\n",
    "\n",
    "    # Create the corresponding folder in destination if it doesn't exist\n",
    "    os.makedirs(new_dest_folder, exist_ok=True)\n",
    "\n",
    "    # Copy each .tif file to the new location\n",
    "    for file in tif_files:\n",
    "        src_path = os.path.join(root, file)\n",
    "        dest_path = os.path.join(new_dest_folder, file)\n",
    "        shutil.copy2(src_path, dest_path)\n",
    "\n",
    "print(f\".tif files have been copied to '{dest_folder}' with folder structure preserved.\")\n"
   ],
   "outputs": [
    {
     "name": "stdout",
     "output_type": "stream",
     "text": [
      ".tif files have been copied to 'W:\\Sat_Project\\Processed\\ONLY_TIF' with folder structure preserved.\n"
     ]
    }
   ],
   "execution_count": 1
  }
 ],
 "metadata": {
  "kernelspec": {
   "display_name": "Python 3",
   "language": "python",
   "name": "python3"
  },
  "language_info": {
   "codemirror_mode": {
    "name": "ipython",
    "version": 3
   },
   "file_extension": ".py",
   "mimetype": "text/x-python",
   "name": "python",
   "nbconvert_exporter": "python",
   "pygments_lexer": "ipython3",
   "version": "3.11.5"
  }
 },
 "nbformat": 4,
 "nbformat_minor": 2
}
