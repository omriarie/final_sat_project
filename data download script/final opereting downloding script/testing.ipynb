{
 "cells": [
  {
   "metadata": {
    "ExecuteTime": {
     "end_time": "2025-03-12T10:16:17.031708Z",
     "start_time": "2025-03-12T10:16:17.007772Z"
    }
   },
   "cell_type": "code",
   "source": [
    "from __future__ import (division, print_function, absolute_import, unicode_literals)\n",
    "import os\n",
    "from satpy import Scene\n",
    "from glob import glob\n",
    "import rioxarray\n",
    "import sqlite3\n",
    "import numpy as np\n",
    "import sys\n",
    "import os\n",
    "import os.path\n",
    "import shutil\n",
    "import time\n",
    "import json\n",
    "import os\n",
    "from datetime import datetime, timedelta\n",
    "from goes2go.data import goes_nearesttime\n",
    "import rioxarray\n",
    "import matplotlib.pyplot as plt\n",
    "import numpy as np\n",
    "import xarray as xr\n",
    "\n",
    "import netCDF4\n",
    "import leafmap  # Add this import\n",
    "from io import StringIO\n",
    "USERAGENT = 'tis/download.py_1.0--' + sys.version.replace('\\n','').replace('\\r','')\n",
    "from datetime import datetime, timedelta"
   ],
   "id": "9f0708c454437d26",
   "outputs": [],
   "execution_count": 2
  },
  {
   "metadata": {
    "ExecuteTime": {
     "end_time": "2025-03-12T10:52:52.024003Z",
     "start_time": "2025-03-12T10:52:52.002063Z"
    }
   },
   "cell_type": "code",
   "source": [
    "import geopandas as gpd\n",
    "import shapely\n",
    "import matplotlib.pyplot as plt\n",
    "from shapely.geometry import Polygon\n",
    "import rioxarray\n",
    "from rasterio.plot import show"
   ],
   "id": "3dd4a7b364b35435",
   "outputs": [],
   "execution_count": 66
  },
  {
   "cell_type": "code",
   "id": "initial_id",
   "metadata": {
    "collapsed": true,
    "ExecuteTime": {
     "end_time": "2025-03-12T10:16:37.272783Z",
     "start_time": "2025-03-12T10:16:37.265802Z"
    }
   },
   "source": [
    "def get_VIIRS_bounds_polygon(VIIRS_fire_path):\n",
    "    \"\"\"\n",
    "    Get a VIIRS fire product path return a polygon of VIIRS image bounds\n",
    "\n",
    "    :VIIRS_fire_path: VIIRS fire product for example \"C:\\\\Asaf\\\\VIIRS\\\\VNP14IMG.A2020251.2042.001.2020258064138\"\n",
    "\n",
    "    :return: geodataframe of bounds in lat/lon WGS84 projection\n",
    "    \"\"\"\n",
    "    VIIRS = xr.open_dataset(VIIRS_fire_path)  ## Open file\n",
    "    ## Now for the bbox bounds\n",
    "    lat_bounds = VIIRS.attrs['GRingPointLatitude']\n",
    "    lon_bounds = VIIRS.attrs['GRingPointLongitude']\n",
    "\n",
    "    pol_bounds = []  ## Empty bounds list\n",
    "    for i in range(len(lat_bounds)):  ## for all bounds\n",
    "        coord = (lon_bounds[i], lat_bounds[i])  ## Take lon/lat\n",
    "        pol_bounds.append(coord)  ## append\n",
    "    pol_bounds.append((lon_bounds[0], lat_bounds[0]))  ## append firt coords to \"close\" the polygon\n",
    "\n",
    "    pol = shapely.Polygon(pol_bounds)  ## Create polygon\n",
    "    gdf_pol = gpd.GeoDataFrame({'geometry': [pol]}, crs=4326)  ## Create as gdf\n",
    "\n",
    "    return (gdf_pol)"
   ],
   "outputs": [],
   "execution_count": 4
  },
  {
   "metadata": {
    "ExecuteTime": {
     "end_time": "2025-03-12T10:36:31.092765Z",
     "start_time": "2025-03-12T10:36:31.063843Z"
    }
   },
   "cell_type": "code",
   "source": "viirs_bound_poly = get_VIIRS_bounds_polygon(r\"C:\\Users\\Admin\\Desktop\\6.3.25\\2020-02-20_19-54\\VNP02IMG.A2020051.1954.002.2021126151822.nc\")",
   "id": "9199a0952652cafd",
   "outputs": [],
   "execution_count": 38
  },
  {
   "metadata": {
    "ExecuteTime": {
     "end_time": "2025-03-12T10:36:31.138642Z",
     "start_time": "2025-03-12T10:36:31.124680Z"
    }
   },
   "cell_type": "code",
   "source": "viirs_bound_poly.crs",
   "id": "1483bf377187fe0",
   "outputs": [
    {
     "data": {
      "text/plain": [
       "<Geographic 2D CRS: EPSG:4326>\n",
       "Name: WGS 84\n",
       "Axis Info [ellipsoidal]:\n",
       "- Lat[north]: Geodetic latitude (degree)\n",
       "- Lon[east]: Geodetic longitude (degree)\n",
       "Area of Use:\n",
       "- name: World.\n",
       "- bounds: (-180.0, -90.0, 180.0, 90.0)\n",
       "Datum: World Geodetic System 1984 ensemble\n",
       "- Ellipsoid: WGS 84\n",
       "- Prime Meridian: Greenwich"
      ]
     },
     "execution_count": 39,
     "metadata": {},
     "output_type": "execute_result"
    }
   ],
   "execution_count": 39
  },
  {
   "metadata": {
    "ExecuteTime": {
     "end_time": "2025-03-12T10:36:31.217431Z",
     "start_time": "2025-03-12T10:36:31.203468Z"
    }
   },
   "cell_type": "code",
   "source": "AOY_PATH = r\"C:\\Users\\Admin\\Desktop\\6.3.25\\boundary_gdf.shp\"",
   "id": "645b94fbf4740e80",
   "outputs": [],
   "execution_count": 40
  },
  {
   "metadata": {
    "ExecuteTime": {
     "end_time": "2025-03-12T10:36:31.248364Z",
     "start_time": "2025-03-12T10:36:31.225883Z"
    }
   },
   "cell_type": "code",
   "source": [
    "AOI = gpd.read_file(AOY_PATH)\n",
    "AOI.crs\n"
   ],
   "id": "3cf31a7ff00963a7",
   "outputs": [
    {
     "data": {
      "text/plain": [
       "<Geographic 2D CRS: EPSG:4326>\n",
       "Name: WGS 84\n",
       "Axis Info [ellipsoidal]:\n",
       "- Lat[north]: Geodetic latitude (degree)\n",
       "- Lon[east]: Geodetic longitude (degree)\n",
       "Area of Use:\n",
       "- name: World.\n",
       "- bounds: (-180.0, -90.0, 180.0, 90.0)\n",
       "Datum: World Geodetic System 1984 ensemble\n",
       "- Ellipsoid: WGS 84\n",
       "- Prime Meridian: Greenwich"
      ]
     },
     "execution_count": 41,
     "metadata": {},
     "output_type": "execute_result"
    }
   ],
   "execution_count": 41
  },
  {
   "metadata": {
    "ExecuteTime": {
     "end_time": "2025-03-12T10:36:31.279283Z",
     "start_time": "2025-03-12T10:36:31.266284Z"
    }
   },
   "cell_type": "code",
   "source": [
    "if AOI.crs == viirs_bound_poly.crs:\n",
    "    print(viirs_bound_poly.contains(AOI))\n",
    "else:\n",
    "    print(\"not the same CRS\")"
   ],
   "id": "836a8c2ad73e280b",
   "outputs": [
    {
     "name": "stdout",
     "output_type": "stream",
     "text": [
      "0    True\n",
      "dtype: bool\n"
     ]
    }
   ],
   "execution_count": 42
  },
  {
   "metadata": {
    "ExecuteTime": {
     "end_time": "2025-03-12T10:36:31.479712Z",
     "start_time": "2025-03-12T10:36:31.296205Z"
    }
   },
   "cell_type": "code",
   "source": [
    "# Plot them together\n",
    "fig, ax = plt.subplots(figsize=(8, 8))\n",
    "viirs_bound_poly.plot(ax=ax, color='blue', edgecolor='black', alpha=0.5, label='Polygon 1')\n",
    "AOI.plot(ax=ax, color='red', edgecolor='black', alpha=0.5, label='Polygon 2')"
   ],
   "id": "d3bf9dbbad73676a",
   "outputs": [
    {
     "data": {
      "text/plain": [
       "<Axes: >"
      ]
     },
     "execution_count": 43,
     "metadata": {},
     "output_type": "execute_result"
    },
    {
     "data": {
      "text/plain": [
       "<Figure size 800x800 with 1 Axes>"
      ],
      "image/png": "[encoded data removed]"
     },
     "metadata": {},
     "output_type": "display_data"
    }
   ],
   "execution_count": 43
  },
  {
   "metadata": {
    "ExecuteTime": {
     "end_time": "2025-03-12T10:36:31.510630Z",
     "start_time": "2025-03-12T10:36:31.498662Z"
    }
   },
   "cell_type": "code",
   "source": "AOI.bounds",
   "id": "c8331c656fab8a32",
   "outputs": [
    {
     "data": {
      "text/plain": [
       "         minx       miny        maxx       maxy\n",
       "0 -114.672016  34.856997 -109.558228  37.735246"
      ],
      "text/html": [
       "<div>\n",
       "<style scoped>\n",
       "    .dataframe tbody tr th:only-of-type {\n",
       "        vertical-align: middle;\n",
       "    }\n",
       "\n",
       "    .dataframe tbody tr th {\n",
       "        vertical-align: top;\n",
       "    }\n",
       "\n",
       "    .dataframe thead th {\n",
       "        text-align: right;\n",
       "    }\n",
       "</style>\n",
       "<table border=\"1\" class=\"dataframe\">\n",
       "  <thead>\n",
       "    <tr style=\"text-align: right;\">\n",
       "      <th></th>\n",
       "      <th>minx</th>\n",
       "      <th>miny</th>\n",
       "      <th>maxx</th>\n",
       "      <th>maxy</th>\n",
       "    </tr>\n",
       "  </thead>\n",
       "  <tbody>\n",
       "    <tr>\n",
       "      <th>0</th>\n",
       "      <td>-114.672016</td>\n",
       "      <td>34.856997</td>\n",
       "      <td>-109.558228</td>\n",
       "      <td>37.735246</td>\n",
       "    </tr>\n",
       "  </tbody>\n",
       "</table>\n",
       "</div>"
      ]
     },
     "execution_count": 44,
     "metadata": {},
     "output_type": "execute_result"
    }
   ],
   "execution_count": 44
  },
  {
   "metadata": {
    "ExecuteTime": {
     "end_time": "2025-03-12T10:37:41.656222Z",
     "start_time": "2025-03-12T10:37:41.639267Z"
    }
   },
   "cell_type": "code",
   "source": [
    "def combine_viirs_images(input_dir, output_dir):\n",
    "    \"\"\"\n",
    "    Combine two VIIRS images using Satpy, slicing them, and save the output.\n",
    "\n",
    "    Parameters:\n",
    "        input_dir (str): Directory containing VIIRS image files.\n",
    "        output_dir (str): Directory where the combined image will be saved.\n",
    "\n",
    "    Returns:\n",
    "        None\n",
    "    \"\"\"\n",
    "    # Ensure output directory exists\n",
    "    os.makedirs(output_dir, exist_ok=True)\n",
    "\n",
    "    # Locate VIIRS files\n",
    "    viirs_files = glob(os.path.join(input_dir, \"*.nc\"))\n",
    "    if len(viirs_files) < 2:\n",
    "        raise ValueError(\"At least two VIIRS files are required for combining.\")\n",
    "\n",
    "    # Load files into a Satpy Scene\n",
    "    scene = Scene(reader=\"viirs_l1b\", filenames=viirs_files[:2])\n",
    "\n",
    "    # Load all available datasets\n",
    "    scene.load(scene.available_dataset_names())\n",
    "    print(scene.available_dataset_names())\n",
    "\n",
    "    target_area = \"goes_east_abi_c_500m\"\n",
    "    combined_scene = scene.resample(target_area, resampler=\"nearest\")\n",
    "\n",
    "    # Save datasets as GeoTIFFs\n",
    "    my_bands = [\"I04\", \"I05\"]\n",
    "    band_data_list = []\n",
    "    for band in my_bands:\n",
    "        band_data = combined_scene[band].values  # Extract values\n",
    "        band_data_list.append(band_data)\n",
    "\n",
    "    # Combine the bands into a single 3D array (bands, y, x)\n",
    "    combined_bands = np.stack(band_data_list, axis=0)\n",
    "\n",
    "    # Wrap the combined data into an xarray DataArray with rioxarray extension\n",
    "    combined_data_rio = xr.DataArray(\n",
    "        combined_bands,\n",
    "        dims=[\"band\", \"y\", \"x\"],\n",
    "        coords={\n",
    "            \"band\": [1, 2],  # Band indices\n",
    "            \"y\": combined_scene[\"I04\"].y,\n",
    "            \"x\": combined_scene[\"I04\"].x\n",
    "        },\n",
    "        attrs=combined_scene[\"I04\"].attrs,  # Copy CRS and attributes\n",
    "    )\n",
    "    combined_data_rio.rio.write_crs(combined_scene[\"I04\"].attrs[\"area\"].crs.to_string(), inplace=True)\n",
    "\n",
    "    # Save the combined GeoTIFF\n",
    "    output_tif = os.path.join(output_dir, \"combined_bands.tif\")\n",
    "    combined_data_rio.rio.to_raster(output_tif)\n",
    "    print(f\"Combined file with both bands saved at {output_tif}\")"
   ],
   "id": "806a277a28453560",
   "outputs": [],
   "execution_count": 45
  },
  {
   "metadata": {
    "ExecuteTime": {
     "end_time": "2025-03-12T10:39:21.128238Z",
     "start_time": "2025-03-12T10:38:44.917957Z"
    }
   },
   "cell_type": "code",
   "source": "combine_viirs_images(r\"C:\\Users\\Admin\\Desktop\\6.3.25\\2020-02-20_19-54\",r\"C:\\Users\\Admin\\Desktop\\6.3.25\\2020-02-20_19-54\")",
   "id": "26287586445a3040",
   "outputs": [
    {
     "name": "stderr",
     "output_type": "stream",
     "text": [
      "Don't know how to open the following files: {'C:\\\\Users\\\\Admin\\\\Desktop\\\\6.3.25\\\\2020-02-20_19-54\\\\OR_ABI-L2-MCMIPC-M6_G16_s20200511956158_e20200511958531_c20200511959088.nc'}\n",
      "Required file type 'vgeoi' not found or loaded for 'i_lon'\n",
      "Required file type 'vgeoi' not found or loaded for 'i_lat'\n",
      "Failed to load coordinates for 'DataID(name='I03', wavelength=WavelengthRange(min=1.58, central=1.61, max=1.64, unit='µm'), resolution=371, calibration=<calibration.reflectance>, modifiers=())'\n",
      "Failed to load coordinates for 'DataID(name='I02', wavelength=WavelengthRange(min=0.845, central=0.865, max=0.884, unit='µm'), resolution=371, calibration=<calibration.reflectance>, modifiers=())'\n",
      "Failed to load coordinates for 'DataID(name='I04', wavelength=WavelengthRange(min=3.58, central=3.74, max=3.9, unit='µm'), resolution=371, calibration=<calibration.brightness_temperature>, modifiers=())'\n",
      "Failed to load coordinates for 'DataID(name='I05', wavelength=WavelengthRange(min=10.5, central=11.45, max=12.3, unit='µm'), resolution=371, calibration=<calibration.brightness_temperature>, modifiers=())'\n",
      "Failed to load coordinates for 'DataID(name='I01', wavelength=WavelengthRange(min=0.6, central=0.64, max=0.68, unit='µm'), resolution=371, calibration=<calibration.reflectance>, modifiers=())'\n"
     ]
    },
    {
     "name": "stdout",
     "output_type": "stream",
     "text": [
      "['I01', 'I02', 'I03', 'I04', 'I05']\n"
     ]
    },
    {
     "ename": "KeyError",
     "evalue": "'area'",
     "output_type": "error",
     "traceback": [
      "\u001B[1;31m---------------------------------------------------------------------------\u001B[0m",
      "\u001B[1;31mKeyError\u001B[0m                                  Traceback (most recent call last)",
      "Cell \u001B[1;32mIn[46], line 1\u001B[0m\n\u001B[1;32m----> 1\u001B[0m \u001B[43mcombine_viirs_images\u001B[49m\u001B[43m(\u001B[49m\u001B[38;5;124;43mr\u001B[39;49m\u001B[38;5;124;43m\"\u001B[39;49m\u001B[38;5;124;43mC:\u001B[39;49m\u001B[38;5;124;43m\\\u001B[39;49m\u001B[38;5;124;43mUsers\u001B[39;49m\u001B[38;5;124;43m\\\u001B[39;49m\u001B[38;5;124;43mAdmin\u001B[39;49m\u001B[38;5;124;43m\\\u001B[39;49m\u001B[38;5;124;43mDesktop\u001B[39;49m\u001B[38;5;124;43m\\\u001B[39;49m\u001B[38;5;124;43m6.3.25\u001B[39;49m\u001B[38;5;124;43m\\\u001B[39;49m\u001B[38;5;124;43m2020-02-20_19-54\u001B[39;49m\u001B[38;5;124;43m\"\u001B[39;49m\u001B[43m,\u001B[49m\u001B[38;5;124;43mr\u001B[39;49m\u001B[38;5;124;43m\"\u001B[39;49m\u001B[38;5;124;43mC:\u001B[39;49m\u001B[38;5;124;43m\\\u001B[39;49m\u001B[38;5;124;43mUsers\u001B[39;49m\u001B[38;5;124;43m\\\u001B[39;49m\u001B[38;5;124;43mAdmin\u001B[39;49m\u001B[38;5;124;43m\\\u001B[39;49m\u001B[38;5;124;43mDesktop\u001B[39;49m\u001B[38;5;124;43m\\\u001B[39;49m\u001B[38;5;124;43m6.3.25\u001B[39;49m\u001B[38;5;124;43m\\\u001B[39;49m\u001B[38;5;124;43m2020-02-20_19-54\u001B[39;49m\u001B[38;5;124;43m\"\u001B[39;49m\u001B[43m)\u001B[49m\n",
      "Cell \u001B[1;32mIn[45], line 51\u001B[0m, in \u001B[0;36mcombine_viirs_images\u001B[1;34m(input_dir, output_dir)\u001B[0m\n\u001B[0;32m     40\u001B[0m \u001B[38;5;66;03m# Wrap the combined data into an xarray DataArray with rioxarray extension\u001B[39;00m\n\u001B[0;32m     41\u001B[0m combined_data_rio \u001B[38;5;241m=\u001B[39m xr\u001B[38;5;241m.\u001B[39mDataArray(\n\u001B[0;32m     42\u001B[0m     combined_bands,\n\u001B[0;32m     43\u001B[0m     dims\u001B[38;5;241m=\u001B[39m[\u001B[38;5;124m\"\u001B[39m\u001B[38;5;124mband\u001B[39m\u001B[38;5;124m\"\u001B[39m, \u001B[38;5;124m\"\u001B[39m\u001B[38;5;124my\u001B[39m\u001B[38;5;124m\"\u001B[39m, \u001B[38;5;124m\"\u001B[39m\u001B[38;5;124mx\u001B[39m\u001B[38;5;124m\"\u001B[39m],\n\u001B[1;32m   (...)\u001B[0m\n\u001B[0;32m     49\u001B[0m     attrs\u001B[38;5;241m=\u001B[39mcombined_scene[\u001B[38;5;124m\"\u001B[39m\u001B[38;5;124mI04\u001B[39m\u001B[38;5;124m\"\u001B[39m]\u001B[38;5;241m.\u001B[39mattrs,  \u001B[38;5;66;03m# Copy CRS and attributes\u001B[39;00m\n\u001B[0;32m     50\u001B[0m )\n\u001B[1;32m---> 51\u001B[0m combined_data_rio\u001B[38;5;241m.\u001B[39mrio\u001B[38;5;241m.\u001B[39mwrite_crs(\u001B[43mcombined_scene\u001B[49m\u001B[43m[\u001B[49m\u001B[38;5;124;43m\"\u001B[39;49m\u001B[38;5;124;43mI04\u001B[39;49m\u001B[38;5;124;43m\"\u001B[39;49m\u001B[43m]\u001B[49m\u001B[38;5;241;43m.\u001B[39;49m\u001B[43mattrs\u001B[49m\u001B[43m[\u001B[49m\u001B[38;5;124;43m\"\u001B[39;49m\u001B[38;5;124;43marea\u001B[39;49m\u001B[38;5;124;43m\"\u001B[39;49m\u001B[43m]\u001B[49m\u001B[38;5;241m.\u001B[39mcrs\u001B[38;5;241m.\u001B[39mto_string(), inplace\u001B[38;5;241m=\u001B[39m\u001B[38;5;28;01mTrue\u001B[39;00m)\n\u001B[0;32m     53\u001B[0m \u001B[38;5;66;03m# Save the combined GeoTIFF\u001B[39;00m\n\u001B[0;32m     54\u001B[0m output_tif \u001B[38;5;241m=\u001B[39m os\u001B[38;5;241m.\u001B[39mpath\u001B[38;5;241m.\u001B[39mjoin(output_dir, \u001B[38;5;124m\"\u001B[39m\u001B[38;5;124mcombined_bands.tif\u001B[39m\u001B[38;5;124m\"\u001B[39m)\n",
      "\u001B[1;31mKeyError\u001B[0m: 'area'"
     ]
    }
   ],
   "execution_count": 46
  },
  {
   "metadata": {
    "ExecuteTime": {
     "end_time": "2025-03-12T10:49:31.528630Z",
     "start_time": "2025-03-12T10:49:31.471534Z"
    }
   },
   "cell_type": "code",
   "source": [
    "combined = r\"C:\\Users\\Admin\\Desktop\\6.3.25\\2020-02-20_19-54\\combined_bands.tif\"\n",
    "img = rioxarray.open_rasterio(combined)\n",
    "img.rio.crs"
   ],
   "id": "aad4844f8bea0e94",
   "outputs": [
    {
     "data": {
      "text/plain": [
       "CRS.from_wkt('PROJCS[\"unknown\",GEOGCS[\"unknown\",DATUM[\"Unknown based on GRS 1980 ellipsoid\",SPHEROID[\"GRS 1980\",6378137,298.257222101,AUTHORITY[\"EPSG\",\"7019\"]]],PRIMEM[\"Greenwich\",0,AUTHORITY[\"EPSG\",\"8901\"]],UNIT[\"degree\",0.0174532925199433]],PROJECTION[\"Geostationary_Satellite\"],PARAMETER[\"central_meridian\",-75],PARAMETER[\"satellite_height\",35786023],PARAMETER[\"false_easting\",0],PARAMETER[\"false_northing\",0],UNIT[\"metre\",1,AUTHORITY[\"EPSG\",\"9001\"]],AXIS[\"Easting\",EAST],AXIS[\"Northing\",NORTH],EXTENSION[\"PROJ4\",\"+proj=geos +sweep=x +lon_0=-75 +h=35786023 +x_0=0 +y_0=0 +ellps=GRS80 +units=m +no_defs\"]]')"
      ]
     },
     "execution_count": 54,
     "metadata": {},
     "output_type": "execute_result"
    }
   ],
   "execution_count": 54
  },
  {
   "metadata": {
    "ExecuteTime": {
     "end_time": "2025-03-12T10:49:31.559547Z",
     "start_time": "2025-03-12T10:49:31.538604Z"
    }
   },
   "cell_type": "code",
   "source": "AOI = AOI.to_crs(img.rio.crs)",
   "id": "85ee07f5f3de8e75",
   "outputs": [],
   "execution_count": 55
  },
  {
   "metadata": {
    "ExecuteTime": {
     "end_time": "2025-03-12T10:49:32.915174Z",
     "start_time": "2025-03-12T10:49:31.603430Z"
    }
   },
   "cell_type": "code",
   "source": "img_clip = img.rio.clip(AOI.geometry)",
   "id": "d9041523c540042f",
   "outputs": [],
   "execution_count": 56
  },
  {
   "metadata": {
    "ExecuteTime": {
     "end_time": "2025-03-12T10:54:11.724476Z",
     "start_time": "2025-03-12T10:54:11.707521Z"
    }
   },
   "cell_type": "code",
   "source": "img_clip[1].values",
   "id": "7bf61a71d47635a7",
   "outputs": [
    {
     "data": {
      "text/plain": [
       "array([[  287.5488 ,   287.87006,   288.88257, ...,   291.77576,\n",
       "          290.43063,   289.91794],\n",
       "       [  288.14243,   288.83487,   288.73938, ...,   292.45963,\n",
       "          290.36472,   289.42197],\n",
       "       [  287.83475,   287.57132,   287.8572 , ...,   291.409  ,\n",
       "          290.9224 ,   291.521  ],\n",
       "       ...,\n",
       "       [  301.00693,   298.39264,   299.90424, ..., 65535.     ,\n",
       "        65535.     , 65535.     ],\n",
       "       [  299.47043,   299.95944,   300.56235, ..., 65535.     ,\n",
       "        65535.     , 65535.     ],\n",
       "       [  299.70062,   300.13657,   300.0524 , ..., 65535.     ,\n",
       "        65535.     , 65535.     ]], dtype=float32)"
      ]
     },
     "execution_count": 69,
     "metadata": {},
     "output_type": "execute_result"
    }
   ],
   "execution_count": 69
  },
  {
   "metadata": {
    "ExecuteTime": {
     "end_time": "2025-03-19T12:25:58.924076Z",
     "start_time": "2025-03-19T12:25:57.400451Z"
    }
   },
   "cell_type": "code",
   "source": [
    "import rioxarray\n",
    "import os\n",
    "\n",
    "# List of image files to check\n",
    "image_files = [\n",
    "    \"clipped_geo16.tif\",\n",
    "    \"clipped_geo17.tif\",\n",
    "    \"combined_clip.tif\"\n",
    "]\n",
    "\n",
    "# Function to get image size (in pixels)\n",
    "def get_image_size(image_path):\n",
    "    try:\n",
    "        img = rioxarray.open_rasterio(image_path)\n",
    "        height, width = img.shape[-2:]  # Get dimensions (y, x)\n",
    "        num_bands = img.shape[0]  # Number of bands\n",
    "        print(f\"Image: {os.path.basename(image_path)}\")\n",
    "        print(f\"  - Bands: {num_bands}\")\n",
    "        print(f\"  - Size: {height} x {width} pixels (Height x Width)\\n\")\n",
    "    except Exception as e:\n",
    "        print(f\"Error processing {image_path}: {e}\")\n",
    "\n",
    "# Run on all images\n",
    "for img_file in image_files:\n",
    "    get_image_size(img_file)\n"
   ],
   "id": "51b93ee29b7814e4",
   "outputs": [
    {
     "name": "stdout",
     "output_type": "stream",
     "text": [
      "Image: clipped_geo16.tif\n",
      "  - Bands: 32\n",
      "  - Size: 100 x 100 pixels (Height x Width)\n",
      "\n",
      "Image: clipped_geo17.tif\n",
      "  - Bands: 32\n",
      "  - Size: 100 x 100 pixels (Height x Width)\n",
      "\n",
      "Image: combined_clip.tif\n",
      "  - Bands: 2\n",
      "  - Size: 400 x 400 pixels (Height x Width)\n",
      "\n"
     ]
    },
    {
     "name": "stderr",
     "output_type": "stream",
     "text": [
      "C:\\Users\\Admin\\anaconda3\\envs\\sat_project_py3.9\\lib\\site-packages\\rioxarray\\_io.py:669: UserWarning: Offsets differ across bands. The 'scale_factor' attribute will not be added. See the 'scales' attribute.\n",
      "  warnings.warn(\n",
      "C:\\Users\\Admin\\anaconda3\\envs\\sat_project_py3.9\\lib\\site-packages\\rioxarray\\_io.py:678: UserWarning: Offsets differ across bands. The 'add_offset' attribute will not be added. See the 'offsets' attribute.\n",
      "  warnings.warn(\n",
      "C:\\Users\\Admin\\anaconda3\\envs\\sat_project_py3.9\\lib\\site-packages\\rioxarray\\_io.py:669: UserWarning: Offsets differ across bands. The 'scale_factor' attribute will not be added. See the 'scales' attribute.\n",
      "  warnings.warn(\n",
      "C:\\Users\\Admin\\anaconda3\\envs\\sat_project_py3.9\\lib\\site-packages\\rioxarray\\_io.py:678: UserWarning: Offsets differ across bands. The 'add_offset' attribute will not be added. See the 'offsets' attribute.\n",
      "  warnings.warn(\n"
     ]
    }
   ],
   "execution_count": 1
  },
  {
   "metadata": {
    "ExecuteTime": {
     "end_time": "2025-03-19T12:25:18.751115Z",
     "start_time": "2025-03-19T12:25:13.636288Z"
    }
   },
   "cell_type": "code",
   "source": [
    "G16 = rioxarray.open_rasterio(\"OR_ABI-L2-MCMIPC-M6_G16_s20200572116150_e20200572118529_c20200572119076.nc\")\n",
    "G16_CRS = G16.rio.crs\n",
    "print(G16_CRS)"
   ],
   "id": "ce848b1ce5c04bb6",
   "outputs": [
    {
     "name": "stdout",
     "output_type": "stream",
     "text": [
      "PROJCS[\"unnamed\",GEOGCS[\"unknown\",DATUM[\"unnamed\",SPHEROID[\"Spheroid\",6378137,298.2572221]],PRIMEM[\"Greenwich\",0],UNIT[\"degree\",0.0174532925199433,AUTHORITY[\"EPSG\",\"9122\"]]],PROJECTION[\"Geostationary_Satellite\"],PARAMETER[\"central_meridian\",-75],PARAMETER[\"satellite_height\",35786023],PARAMETER[\"false_easting\",0],PARAMETER[\"false_northing\",0],UNIT[\"metre\",1,AUTHORITY[\"EPSG\",\"9001\"]],AXIS[\"Easting\",EAST],AXIS[\"Northing\",NORTH],EXTENSION[\"PROJ4\",\"+proj=geos +lon_0=-75 +h=35786023 +x_0=0 +y_0=0 +ellps=GRS80 +units=m +no_defs +sweep=x\"]]\n"
     ]
    }
   ],
   "execution_count": 8
  },
  {
   "metadata": {
    "ExecuteTime": {
     "end_time": "2025-03-19T16:40:16.942521Z",
     "start_time": "2025-03-19T16:40:16.658671Z"
    }
   },
   "cell_type": "code",
   "source": [
    "import os\n",
    "import re\n",
    "import gc\n",
    "import geopandas as gpd\n",
    "import rioxarray\n",
    "\n",
    "# Define paths for test:\n",
    "order_path = r\"W:\\Sat_Project\\Test_Folder\"\n",
    "AOI_PATH = r\"shape_files/boundary_gdf.shp\"\n",
    "AOY_PATH = r\"shape_files/boundary_gdf.shp\"\n",
    "\n",
    "# Load AOI\n",
    "aoi = gpd.read_file(AOY_PATH)\n",
    "\n",
    "# Paths to test GOES images\n",
    "goes_files = [\n",
    "    \"OR_ABI-L2-MCMIPC-M6_G16_s20200572116150_e20200572118529_c20200572119076.nc\",\n",
    "    \"OR_ABI-L2-MCMIPC-M6_G17_s20200572116179_e20200572118564_c20200572119088.nc\"\n",
    "]\n",
    "\n",
    "# Sort to ensure G16 is first\n",
    "goes_files.sort(key=lambda x: \"G16\" not in x)\n",
    "\n",
    "reference_raster = None\n",
    "reference_AOI_geo = None\n",
    "\n",
    "AOI_PATH = r\"shape_files/boundary_gdf.shp\"\n",
    "AOI = gpd.read_file(AOI_PATH)\n",
    "\n",
    "for file in goes_files:\n",
    "    file_path = os.path.join(order_path, file)\n",
    "    print(f\"Opened GOES image: {file}\")\n",
    "\n",
    "    try:\n",
    "        with rioxarray.open_rasterio(file_path, masked=True) as ds:\n",
    "            img = ds.squeeze()\n",
    "\n",
    "            if \"G16\" in file:\n",
    "                print(f\"Setting {file} as reference raster\")\n",
    "                reference_raster = img.copy()\n",
    "                reference_AOI_geo = AOI.to_crs(img.rio.crs)\n",
    "                print(f\"Reprojected AOI to match GOES-16 CRS: {reference_AOI_geo.crs}\")\n",
    "\n",
    "            elif \"G17\" in file and reference_raster is not None:\n",
    "                print(f\"Reprojecting {file} to match GOES-16 grid\")\n",
    "                img = img.rio.reproject_match(reference_raster)\n",
    "\n",
    "            geo_clip = img.rio.clip(reference_AOI_geo.geometry, all_touched=True)\n",
    "\n",
    "            match = re.search(r\"G(\\d{2})\", file)\n",
    "            num = match.group(1) if match else None\n",
    "            if num:\n",
    "                output_tif = os.path.join(order_path, f\"clipped_geo{num}.tif\")\n",
    "                geo_clip.rio.to_raster(output_tif)\n",
    "                print(f\"✅ Saved clipped image: {output_tif}\")\n",
    "            else:\n",
    "                raise ValueError(f\"⚠ Warning: Could not extract GOES number from {file}\")\n",
    "\n",
    "    except Exception as e:\n",
    "        print(f\"❌ Error processing {file}: {e}\")\n",
    "\n",
    "    finally:\n",
    "        gc.collect()  # Clean up file handles"
   ],
   "id": "b1e7bb5df46011b4",
   "outputs": [
    {
     "name": "stdout",
     "output_type": "stream",
     "text": [
      "Opened GOES image: OR_ABI-L2-MCMIPC-M6_G16_s20200572116150_e20200572118529_c20200572119076.nc\n",
      "❌ Error processing OR_ABI-L2-MCMIPC-M6_G16_s20200572116150_e20200572118529_c20200572119076.nc: W:\\Sat_Project\\Test_Folder\\OR_ABI-L2-MCMIPC-M6_G16_s20200572116150_e20200572118529_c20200572119076.nc: No such file or directory\n",
      "Opened GOES image: OR_ABI-L2-MCMIPC-M6_G17_s20200572116179_e20200572118564_c20200572119088.nc\n",
      "❌ Error processing OR_ABI-L2-MCMIPC-M6_G17_s20200572116179_e20200572118564_c20200572119088.nc: W:\\Sat_Project\\Test_Folder\\OR_ABI-L2-MCMIPC-M6_G17_s20200572116179_e20200572118564_c20200572119088.nc: No such file or directory\n"
     ]
    }
   ],
   "execution_count": 5
  },
  {
   "metadata": {
    "ExecuteTime": {
     "end_time": "2025-03-19T16:39:24.986698Z",
     "start_time": "2025-03-19T16:39:24.946334Z"
    }
   },
   "cell_type": "code",
   "source": [
    "import os\n",
    "import re\n",
    "import gc\n",
    "import geopandas as gpd\n",
    "import rioxarray\n",
    "\n",
    "# Define paths for test:\n",
    "order_path = r\"W:\\Sat_Project\\Test_Folder\"\n",
    "AOI_PATH = r\"shape_files/boundary_gdf.shp\"\n",
    "\n",
    "# Load AOI\n",
    "aoi = gpd.read_file(AOY_PATH)\n",
    "\n",
    "# Paths to test GOES images\n",
    "goes_files = [\n",
    "    \"OR_ABI-L2-MCMIPC-M6_G16_s20200572116150_e20200572118529_c20200572119076.nc\",\n",
    "    \"OR_ABI-L2-MCMIPC-M6_G17_s20200572116179_e20200572118564_c20200572119088.nc\"\n",
    "]\n",
    "\n",
    "# Sort to ensure G16 is first\n",
    "goes_files.sort(key=lambda x: \"G16\" not in x)\n",
    "\n",
    "reference_raster = None\n",
    "reference_AOI_geo = None\n",
    "\n",
    "AOI_PATH = r\"shape_files/boundary_gdf.shp\"\n",
    "AOI = gpd.read_file(AOI_PATH)\n",
    "\n",
    "for file in goes_files:\n",
    "    file_path = os.path.join(order_path, file)\n",
    "    print(f\"Opened GOES image: {file}\")\n",
    "\n",
    "    try:\n",
    "        with rioxarray.open_rasterio(file_path, masked=True) as ds:\n",
    "            img = ds.squeeze()\n",
    "\n",
    "            if \"G16\" in file:\n",
    "                print(f\"Setting {file} as reference raster\")\n",
    "                reference_raster = img.copy()\n",
    "                reference_AOI_geo = AOI.to_crs(img.rio.crs)\n",
    "                print(f\"Reprojected AOI to match GOES-16 CRS: {reference_AOI_geo.crs}\")\n",
    "\n",
    "            elif \"G17\" in file and reference_raster is not None:\n",
    "                print(f\"Reprojecting {file} to match GOES-16 grid\")\n",
    "                img = img.rio.reproject_match(reference_raster)\n",
    "\n",
    "            geo_clip = img.rio.clip(reference_AOI_geo.geometry, all_touched=True)\n",
    "\n",
    "            match = re.search(r\"G(\\d{2})\", file)\n",
    "            num = match.group(1) if match else None\n",
    "            if num:\n",
    "                output_tif = os.path.join(order_path, f\"clipped_geo{num}.tif\")\n",
    "                geo_clip.rio.to_raster(output_tif)\n",
    "                print(f\"✅ Saved clipped image: {output_tif}\")\n",
    "            else:\n",
    "                raise ValueError(f\"⚠ Warning: Could not extract GOES number from {file}\")\n",
    "\n",
    "    except Exception as e:\n",
    "        print(f\"❌ Error processing {file}: {e}\")\n",
    "\n",
    "    finally:\n",
    "        gc.collect()  # Clean up file handles"
   ],
   "id": "6cd4efcafa051dc5",
   "outputs": [
    {
     "ename": "NameError",
     "evalue": "name 'AOY_PATH' is not defined",
     "output_type": "error",
     "traceback": [
      "\u001B[1;31m---------------------------------------------------------------------------\u001B[0m",
      "\u001B[1;31mNameError\u001B[0m                                 Traceback (most recent call last)",
      "Cell \u001B[1;32mIn[4], line 12\u001B[0m\n\u001B[0;32m      9\u001B[0m AOI_PATH \u001B[38;5;241m=\u001B[39m \u001B[38;5;124mr\u001B[39m\u001B[38;5;124m\"\u001B[39m\u001B[38;5;124mshape_files/boundary_gdf.shp\u001B[39m\u001B[38;5;124m\"\u001B[39m\n\u001B[0;32m     11\u001B[0m \u001B[38;5;66;03m# Load AOI\u001B[39;00m\n\u001B[1;32m---> 12\u001B[0m aoi \u001B[38;5;241m=\u001B[39m gpd\u001B[38;5;241m.\u001B[39mread_file(\u001B[43mAOY_PATH\u001B[49m)\n\u001B[0;32m     14\u001B[0m \u001B[38;5;66;03m# Paths to test GOES images\u001B[39;00m\n\u001B[0;32m     15\u001B[0m goes_files \u001B[38;5;241m=\u001B[39m [\n\u001B[0;32m     16\u001B[0m     \u001B[38;5;124m\"\u001B[39m\u001B[38;5;124mOR_ABI-L2-MCMIPC-M6_G16_s20200572116150_e20200572118529_c20200572119076.nc\u001B[39m\u001B[38;5;124m\"\u001B[39m,\n\u001B[0;32m     17\u001B[0m     \u001B[38;5;124m\"\u001B[39m\u001B[38;5;124mOR_ABI-L2-MCMIPC-M6_G17_s20200572116179_e20200572118564_c20200572119088.nc\u001B[39m\u001B[38;5;124m\"\u001B[39m\n\u001B[0;32m     18\u001B[0m ]\n",
      "\u001B[1;31mNameError\u001B[0m: name 'AOY_PATH' is not defined"
     ]
    }
   ],
   "execution_count": 4
  },
  {
   "metadata": {
    "ExecuteTime": {
     "end_time": "2025-03-20T07:37:21.293330Z",
     "start_time": "2025-03-20T07:37:21.215538Z"
    }
   },
   "cell_type": "code",
   "source": [
    "import os\n",
    "import shutil\n",
    "\n",
    "# The four files to check\n",
    "REQUIRED_FILES = [\n",
    "    \"combined_clip.tif\",\n",
    "    \"clipped_geo16.tif\",\n",
    "    \"clipped_geo17.tif\",\n",
    "    \"clipped_geo18.tif\"\n",
    "]\n",
    "\n",
    "# Paths to your 'INVALID' and 'VALID' directories\n",
    "invalid_root = r\"W:\\Sat_Project\\Processed\\INVALID\"\n",
    "valid_root   = r\"W:\\Sat_Project\\Processed\\VALID\"\n",
    "\n",
    "def fix_invalid_folders():\n",
    "    \"\"\"\n",
    "    Re-checks each order folder in 'INVALID'.\n",
    "    If it has at least 3 of the 4 required files,\n",
    "    it moves it to 'VALID'.\n",
    "    \"\"\"\n",
    "    for month_folder in os.listdir(invalid_root):\n",
    "        month_path = os.path.join(invalid_root, month_folder)\n",
    "\n",
    "        # Skip anything that's not a directory\n",
    "        if not os.path.isdir(month_path):\n",
    "            continue\n",
    "\n",
    "        for order_folder in os.listdir(month_path):\n",
    "            order_path = os.path.join(month_path, order_folder)\n",
    "            if not os.path.isdir(order_path):\n",
    "                continue\n",
    "\n",
    "            # Count how many of the 4 we have\n",
    "            count = 0\n",
    "            for filename in REQUIRED_FILES:\n",
    "                if os.path.exists(os.path.join(order_path, filename)):\n",
    "                    count += 1\n",
    "\n",
    "            if count >= 3:\n",
    "                # Means we have 3 out of the 4 => now valid\n",
    "                new_month_path = os.path.join(valid_root, month_folder)\n",
    "                os.makedirs(new_month_path, exist_ok=True)\n",
    "                shutil.move(order_path, new_month_path)\n",
    "                print(f\"✅ Moved '{order_folder}' from INVALID to VALID \"\n",
    "                      f\"(found {count} of 4 required files)\")\n",
    "            else:\n",
    "                print(f\"Still invalid: '{order_folder}' with only {count} of 4 required files.\")\n",
    "\n",
    "if __name__ == '__main__':\n",
    "    fix_invalid_folders()\n",
    "    print(\"✅ Done re-checking invalid folders.\")\n"
   ],
   "id": "38baf44202a4163d",
   "outputs": [
    {
     "name": "stdout",
     "output_type": "stream",
     "text": [
      "Still invalid: '2020-02-20_19-48' with only 0 of 4 required files.\n",
      "Still invalid: '2020-02-20_19-54' with only 1 of 4 required files.\n",
      "Still invalid: '2020-02-20_21-30' with only 0 of 4 required files.\n",
      "Still invalid: '2020-02-20_21-36' with only 0 of 4 required files.\n",
      "Still invalid: '2020-02-21_19-30' with only 0 of 4 required files.\n",
      "Still invalid: '2020-02-21_19-36' with only 0 of 4 required files.\n",
      "Still invalid: '2020-02-21_21-18' with only 0 of 4 required files.\n",
      "Still invalid: '2020-02-22_19-12' with only 0 of 4 required files.\n",
      "Still invalid: '2020-02-23_18-54' with only 0 of 4 required files.\n",
      "Still invalid: '2020-02-25_19-54' with only 0 of 4 required files.\n",
      "Still invalid: '2020-02-25_21-36' with only 0 of 4 required files.\n",
      "Still invalid: '2020-02-25_21-42' with only 0 of 4 required files.\n",
      "Still invalid: '2020-02-26_19-36' with only 0 of 4 required files.\n",
      "Still invalid: '2020-02-26_19-42' with only 0 of 4 required files.\n",
      "Still invalid: '2020-02-26_21-24' with only 0 of 4 required files.\n",
      "Still invalid: '2020-02-28_19-00' with only 0 of 4 required files.\n",
      "Still invalid: '2020-02-29_18-42' with only 0 of 4 required files.\n",
      "Still invalid: '2020-03-01_20-00' with only 0 of 4 required files.\n",
      "Still invalid: '2020-03-01_21-42' with only 0 of 4 required files.\n",
      "Still invalid: '2020-03-02_19-42' with only 0 of 4 required files.\n",
      "Still invalid: '2020-03-02_19-48' with only 0 of 4 required files.\n",
      "Still invalid: '2020-03-02_21-24' with only 0 of 4 required files.\n",
      "Still invalid: '2020-03-02_21-30' with only 0 of 4 required files.\n",
      "Still invalid: '2020-03-03_19-24' with only 0 of 4 required files.\n",
      "Still invalid: '2020-03-03_19-30' with only 0 of 4 required files.\n",
      "Still invalid: '2020-03-04_19-06' with only 0 of 4 required files.\n",
      "Still invalid: '2020-03-05_18-48' with only 0 of 4 required files.\n",
      "Still invalid: '2020-03-06_21-48' with only 0 of 4 required files.\n",
      "Still invalid: '2025-01-01_19-30' with only 0 of 4 required files.\n",
      "✅ Moved '2025-01-01_19-36' from INVALID to VALID (found 3 of 4 required files)\n",
      "✅ Moved '2025-01-01_21-12' from INVALID to VALID (found 3 of 4 required files)\n",
      "Still invalid: '2025-01-01_21-18' with only 0 of 4 required files.\n",
      "Still invalid: '2025-01-02_19-12' with only 0 of 4 required files.\n",
      "Still invalid: '2025-01-02_19-18' with only 0 of 4 required files.\n",
      "✅ Moved '2025-01-02_20-54' from INVALID to VALID (found 3 of 4 required files)\n",
      "Still invalid: '2025-01-02_21-00' with only 0 of 4 required files.\n",
      "✅ Moved '2025-01-03_20-36' from INVALID to VALID (found 3 of 4 required files)\n",
      "✅ Moved '2025-01-04_20-18' from INVALID to VALID (found 3 of 4 required files)\n",
      "✅ Moved '2025-01-05_20-00' from INVALID to VALID (found 3 of 4 required files)\n",
      "Still invalid: '2025-01-05_21-42' with only 0 of 4 required files.\n",
      "Still invalid: '2025-01-06_19-36' with only 0 of 4 required files.\n",
      "✅ Moved '2025-01-06_19-42' from INVALID to VALID (found 3 of 4 required files)\n",
      "Still invalid: '2025-01-06_21-18' with only 0 of 4 required files.\n",
      "Still invalid: '2025-01-06_21-24' with only 0 of 4 required files.\n",
      "Still invalid: '2025-01-07_19-18' with only 0 of 4 required files.\n",
      "✅ Moved '2025-01-07_19-24' from INVALID to VALID (found 3 of 4 required files)\n",
      "✅ Moved '2025-01-07_21-00' from INVALID to VALID (found 3 of 4 required files)\n",
      "Still invalid: '2025-01-07_21-06' with only 0 of 4 required files.\n",
      "Still invalid: '2025-01-08_19-00' with only 0 of 4 required files.\n",
      "Still invalid: '2025-01-08_19-06' with only 0 of 4 required files.\n",
      "✅ Moved '2025-01-08_20-42' from INVALID to VALID (found 3 of 4 required files)\n",
      "✅ Moved '2025-01-09_20-24' from INVALID to VALID (found 3 of 4 required files)\n",
      "✅ Moved '2025-01-10_20-06' from INVALID to VALID (found 3 of 4 required files)\n",
      "✅ Moved '2025-01-11_19-48' from INVALID to VALID (found 3 of 4 required files)\n",
      "Still invalid: '2025-01-11_21-24' with only 0 of 4 required files.\n",
      "Still invalid: '2025-01-11_21-30' with only 0 of 4 required files.\n",
      "Still invalid: '2025-01-12_19-24' with only 0 of 4 required files.\n",
      "✅ Moved '2025-01-12_19-30' from INVALID to VALID (found 3 of 4 required files)\n",
      "✅ Moved '2025-01-12_21-06' from INVALID to VALID (found 3 of 4 required files)\n",
      "Still invalid: '2025-01-12_21-12' with only 0 of 4 required files.\n",
      "Still invalid: '2025-01-13_19-06' with only 0 of 4 required files.\n",
      "Still invalid: '2025-01-13_19-12' with only 0 of 4 required files.\n",
      "✅ Moved '2025-01-13_20-48' from INVALID to VALID (found 3 of 4 required files)\n",
      "Still invalid: '2025-01-13_20-54' with only 0 of 4 required files.\n",
      "✅ Moved '2025-01-14_20-30' from INVALID to VALID (found 3 of 4 required files)\n",
      "✅ Moved '2025-01-15_20-12' from INVALID to VALID (found 3 of 4 required files)\n",
      "✅ Moved '2025-01-16_19-54' from INVALID to VALID (found 3 of 4 required files)\n",
      "Still invalid: '2025-01-16_21-36' with only 0 of 4 required files.\n",
      "Still invalid: '2025-01-17_19-30' with only 0 of 4 required files.\n",
      "✅ Moved '2025-01-17_19-36' from INVALID to VALID (found 3 of 4 required files)\n",
      "Still invalid: '2025-01-17_21-12' with only 0 of 4 required files.\n",
      "Still invalid: '2025-01-17_21-18' with only 0 of 4 required files.\n",
      "Still invalid: '2025-01-18_19-12' with only 0 of 4 required files.\n",
      "Still invalid: '2025-01-18_19-18' with only 0 of 4 required files.\n",
      "✅ Moved '2025-01-18_20-54' from INVALID to VALID (found 3 of 4 required files)\n",
      "Still invalid: '2025-01-18_21-00' with only 0 of 4 required files.\n",
      "✅ Moved '2025-01-19_20-36' from INVALID to VALID (found 3 of 4 required files)\n",
      "✅ Moved '2025-01-21_20-00' from INVALID to VALID (found 3 of 4 required files)\n",
      "Still invalid: '2025-01-21_21-42' with only 0 of 4 required files.\n",
      "Still invalid: '2025-01-22_19-36' with only 0 of 4 required files.\n",
      "✅ Moved '2025-01-22_19-42' from INVALID to VALID (found 3 of 4 required files)\n",
      "Still invalid: '2025-01-22_21-18' with only 0 of 4 required files.\n",
      "Still invalid: '2025-01-22_21-24' with only 0 of 4 required files.\n",
      "Still invalid: '2025-01-23_19-18' with only 0 of 4 required files.\n",
      "✅ Moved '2025-01-23_19-24' from INVALID to VALID (found 3 of 4 required files)\n",
      "✅ Moved '2025-01-23_21-00' from INVALID to VALID (found 3 of 4 required files)\n",
      "Still invalid: '2025-01-23_21-06' with only 0 of 4 required files.\n",
      "Still invalid: '2025-01-24_19-00' with only 0 of 4 required files.\n",
      "Still invalid: '2025-01-24_19-06' with only 0 of 4 required files.\n",
      "✅ Moved '2025-01-24_20-42' from INVALID to VALID (found 3 of 4 required files)\n",
      "✅ Moved '2025-01-25_20-24' from INVALID to VALID (found 3 of 4 required files)\n",
      "✅ Moved '2025-01-26_20-06' from INVALID to VALID (found 3 of 4 required files)\n",
      "✅ Moved '2025-01-27_19-48' from INVALID to VALID (found 3 of 4 required files)\n",
      "Still invalid: '2025-01-27_21-24' with only 0 of 4 required files.\n",
      "Still invalid: '2025-01-27_21-30' with only 0 of 4 required files.\n",
      "Still invalid: '2025-01-28_19-24' with only 0 of 4 required files.\n",
      "✅ Moved '2025-01-28_19-30' from INVALID to VALID (found 3 of 4 required files)\n",
      "✅ Moved '2025-01-28_21-06' from INVALID to VALID (found 3 of 4 required files)\n",
      "Still invalid: '2025-01-28_21-12' with only 0 of 4 required files.\n",
      "Still invalid: '2025-01-29_19-06' with only 0 of 4 required files.\n",
      "Still invalid: '2025-01-29_19-12' with only 0 of 4 required files.\n",
      "✅ Moved '2025-01-29_20-48' from INVALID to VALID (found 3 of 4 required files)\n",
      "Still invalid: '2025-01-29_20-54' with only 0 of 4 required files.\n",
      "✅ Moved '2025-01-30_20-30' from INVALID to VALID (found 3 of 4 required files)\n",
      "✅ Moved '2025-01-31_20-12' from INVALID to VALID (found 3 of 4 required files)\n",
      "Still invalid: '2025-02-01_19-54' with only 1 of 4 required files.\n",
      "Still invalid: '2025-02-01_21-36' with only 0 of 4 required files.\n",
      "Still invalid: '2025-02-02_19-30' with only 0 of 4 required files.\n",
      "✅ Moved '2025-02-02_19-36' from INVALID to VALID (found 3 of 4 required files)\n",
      "Still invalid: '2025-02-02_21-12' with only 0 of 4 required files.\n",
      "Still invalid: '2025-02-02_21-18' with only 0 of 4 required files.\n",
      "Still invalid: '2025-02-03_19-12' with only 0 of 4 required files.\n",
      "Still invalid: '2025-02-03_19-18' with only 0 of 4 required files.\n",
      "✅ Moved '2025-02-03_20-54' from INVALID to VALID (found 3 of 4 required files)\n",
      "Still invalid: '2025-02-03_21-00' with only 0 of 4 required files.\n",
      "✅ Moved '2025-02-04_20-36' from INVALID to VALID (found 3 of 4 required files)\n",
      "✅ Moved '2025-02-05_20-18' from INVALID to VALID (found 3 of 4 required files)\n",
      "✅ Moved '2025-02-06_20-00' from INVALID to VALID (found 3 of 4 required files)\n",
      "Still invalid: '2025-02-06_21-42' with only 0 of 4 required files.\n",
      "Still invalid: '2025-02-07_19-36' with only 0 of 4 required files.\n",
      "✅ Moved '2025-02-07_19-42' from INVALID to VALID (found 3 of 4 required files)\n",
      "Still invalid: '2025-02-07_21-18' with only 0 of 4 required files.\n",
      "Still invalid: '2025-02-07_21-24' with only 0 of 4 required files.\n",
      "Still invalid: '2025-02-08_19-18' with only 0 of 4 required files.\n",
      "✅ Moved '2025-02-08_19-24' from INVALID to VALID (found 3 of 4 required files)\n",
      "✅ Moved '2025-02-08_21-00' from INVALID to VALID (found 3 of 4 required files)\n",
      "Still invalid: '2025-02-08_21-06' with only 0 of 4 required files.\n",
      "Still invalid: '2025-02-09_19-00' with only 0 of 4 required files.\n",
      "Still invalid: '2025-02-09_19-06' with only 0 of 4 required files.\n",
      "✅ Moved '2025-02-09_20-42' from INVALID to VALID (found 3 of 4 required files)\n",
      "✅ Moved '2025-02-10_20-24' from INVALID to VALID (found 3 of 4 required files)\n",
      "✅ Moved '2025-02-11_20-06' from INVALID to VALID (found 3 of 4 required files)\n",
      "✅ Moved '2025-02-12_19-48' from INVALID to VALID (found 3 of 4 required files)\n",
      "Still invalid: '2025-02-12_21-24' with only 0 of 4 required files.\n",
      "Still invalid: '2025-02-12_21-30' with only 0 of 4 required files.\n",
      "Still invalid: '2025-02-13_19-24' with only 0 of 4 required files.\n",
      "✅ Moved '2025-02-13_19-30' from INVALID to VALID (found 3 of 4 required files)\n",
      "✅ Moved '2025-02-13_21-06' from INVALID to VALID (found 3 of 4 required files)\n",
      "Still invalid: '2025-02-13_21-12' with only 0 of 4 required files.\n",
      "Still invalid: '2025-02-14_19-06' with only 0 of 4 required files.\n",
      "Still invalid: '2025-02-14_19-12' with only 0 of 4 required files.\n",
      "✅ Moved '2025-02-14_20-48' from INVALID to VALID (found 3 of 4 required files)\n",
      "Still invalid: '2025-02-14_20-54' with only 0 of 4 required files.\n",
      "✅ Moved '2025-02-15_20-30' from INVALID to VALID (found 3 of 4 required files)\n",
      "✅ Moved '2025-02-16_20-12' from INVALID to VALID (found 3 of 4 required files)\n",
      "✅ Moved '2025-02-17_19-54' from INVALID to VALID (found 3 of 4 required files)\n",
      "Still invalid: '2025-02-17_21-36' with only 0 of 4 required files.\n",
      "Still invalid: '2025-02-18_19-30' with only 0 of 4 required files.\n",
      "✅ Moved '2025-02-18_19-36' from INVALID to VALID (found 3 of 4 required files)\n",
      "Still invalid: '2025-02-18_21-12' with only 0 of 4 required files.\n",
      "Still invalid: '2025-02-18_21-18' with only 0 of 4 required files.\n",
      "Still invalid: '2025-02-19_19-12' with only 0 of 4 required files.\n",
      "Still invalid: '2025-02-19_19-18' with only 0 of 4 required files.\n",
      "✅ Moved '2025-02-19_20-54' from INVALID to VALID (found 3 of 4 required files)\n",
      "Still invalid: '2025-02-19_21-00' with only 0 of 4 required files.\n",
      "✅ Moved '2025-02-20_20-36' from INVALID to VALID (found 3 of 4 required files)\n",
      "✅ Moved '2025-02-21_20-18' from INVALID to VALID (found 3 of 4 required files)\n",
      "✅ Moved '2025-02-22_20-00' from INVALID to VALID (found 3 of 4 required files)\n",
      "Still invalid: '2025-02-22_21-42' with only 0 of 4 required files.\n",
      "Still invalid: '2025-02-23_19-36' with only 0 of 4 required files.\n",
      "✅ Moved '2025-02-23_19-42' from INVALID to VALID (found 3 of 4 required files)\n",
      "Still invalid: '2025-02-23_21-18' with only 0 of 4 required files.\n",
      "Still invalid: '2025-02-23_21-24' with only 0 of 4 required files.\n",
      "Still invalid: '2025-02-24_19-18' with only 0 of 4 required files.\n",
      "✅ Moved '2025-02-24_19-24' from INVALID to VALID (found 3 of 4 required files)\n",
      "✅ Moved '2025-02-24_21-00' from INVALID to VALID (found 3 of 4 required files)\n",
      "Still invalid: '2025-02-24_21-06' with only 0 of 4 required files.\n",
      "Still invalid: '2025-02-25_19-00' with only 0 of 4 required files.\n",
      "Still invalid: '2025-02-25_19-06' with only 0 of 4 required files.\n",
      "✅ Moved '2025-02-25_20-42' from INVALID to VALID (found 3 of 4 required files)\n",
      "✅ Moved '2025-02-26_20-24' from INVALID to VALID (found 3 of 4 required files)\n",
      "✅ Moved '2025-02-27_20-06' from INVALID to VALID (found 3 of 4 required files)\n",
      "✅ Moved '2025-02-28_19-48' from INVALID to VALID (found 3 of 4 required files)\n",
      "Still invalid: '2025-02-28_21-24' with only 0 of 4 required files.\n",
      "Still invalid: '2025-02-28_21-30' with only 0 of 4 required files.\n",
      "Still invalid: '2025-03-01_19-24' with only 0 of 4 required files.\n",
      "✅ Moved '2025-03-01_19-30' from INVALID to VALID (found 3 of 4 required files)\n",
      "✅ Moved '2025-03-01_21-06' from INVALID to VALID (found 3 of 4 required files)\n",
      "Still invalid: '2025-03-01_21-12' with only 0 of 4 required files.\n",
      "Still invalid: '2025-03-02_19-06' with only 0 of 4 required files.\n",
      "Still invalid: '2025-03-02_19-12' with only 0 of 4 required files.\n",
      "✅ Moved '2025-03-02_20-48' from INVALID to VALID (found 3 of 4 required files)\n",
      "✅ Moved '2025-03-03_20-30' from INVALID to VALID (found 3 of 4 required files)\n",
      "✅ Moved '2025-03-04_20-12' from INVALID to VALID (found 3 of 4 required files)\n",
      "✅ Moved '2025-03-05_19-54' from INVALID to VALID (found 3 of 4 required files)\n",
      "Still invalid: '2025-03-05_21-30' with only 0 of 4 required files.\n",
      "Still invalid: '2025-03-05_21-36' with only 0 of 4 required files.\n",
      "Still invalid: '2025-03-06_19-30' with only 0 of 4 required files.\n",
      "✅ Moved '2025-03-06_19-36' from INVALID to VALID (found 3 of 4 required files)\n",
      "✅ Moved '2025-03-06_21-12' from INVALID to VALID (found 3 of 4 required files)\n",
      "Still invalid: '2025-03-06_21-18' with only 0 of 4 required files.\n",
      "Still invalid: '2025-03-07_19-12' with only 0 of 4 required files.\n",
      "Still invalid: '2025-03-07_19-18' with only 0 of 4 required files.\n",
      "✅ Moved '2025-03-07_20-54' from INVALID to VALID (found 3 of 4 required files)\n",
      "Still invalid: '2025-03-07_21-00' with only 0 of 4 required files.\n",
      "✅ Moved '2025-03-08_20-36' from INVALID to VALID (found 3 of 4 required files)\n",
      "✅ Moved '2025-03-09_20-18' from INVALID to VALID (found 3 of 4 required files)\n",
      "✅ Moved '2025-03-10_20-00' from INVALID to VALID (found 3 of 4 required files)\n",
      "Still invalid: '2025-03-10_21-42' with only 0 of 4 required files.\n",
      "Still invalid: '2025-03-11_19-36' with only 0 of 4 required files.\n",
      "✅ Moved '2025-03-11_19-42' from INVALID to VALID (found 3 of 4 required files)\n",
      "Still invalid: '2025-03-11_21-18' with only 0 of 4 required files.\n",
      "Still invalid: '2025-03-11_21-24' with only 0 of 4 required files.\n",
      "Still invalid: '2025-03-12_19-18' with only 0 of 4 required files.\n",
      "Still invalid: '2025-03-12_19-24' with only 0 of 4 required files.\n",
      "✅ Moved '2025-03-12_21-00' from INVALID to VALID (found 3 of 4 required files)\n",
      "Still invalid: '2025-03-12_21-06' with only 0 of 4 required files.\n",
      "Still invalid: '2025-03-13_19-00' with only 0 of 4 required files.\n",
      "✅ Moved '2025-03-13_20-42' from INVALID to VALID (found 3 of 4 required files)\n",
      "✅ Moved '2025-03-14_20-24' from INVALID to VALID (found 3 of 4 required files)\n",
      "✅ Moved '2025-03-15_20-06' from INVALID to VALID (found 3 of 4 required files)\n",
      "Still invalid: '2025-03-16_19-42' with only 0 of 4 required files.\n",
      "✅ Moved '2025-03-16_19-48' from INVALID to VALID (found 3 of 4 required files)\n",
      "Still invalid: '2025-03-16_21-24' with only 0 of 4 required files.\n",
      "Still invalid: '2025-03-16_21-30' with only 0 of 4 required files.\n",
      "Still invalid: '2025-03-17_19-24' with only 0 of 4 required files.\n",
      "✅ Moved '2025-03-17_19-30' from INVALID to VALID (found 3 of 4 required files)\n",
      "✅ Moved '2025-03-17_21-06' from INVALID to VALID (found 3 of 4 required files)\n",
      "Still invalid: '2025-03-17_21-12' with only 0 of 4 required files.\n",
      "Still invalid: '2025-03-18_19-06' with only 0 of 4 required files.\n",
      "Still invalid: '2025-03-18_19-12' with only 0 of 4 required files.\n",
      "✅ Moved '2025-03-18_20-48' from INVALID to VALID (found 3 of 4 required files)\n",
      "✅ Done re-checking invalid folders.\n"
     ]
    }
   ],
   "execution_count": 1
  },
  {
   "metadata": {
    "ExecuteTime": {
     "end_time": "2025-04-10T09:01:52.682720Z",
     "start_time": "2025-04-10T09:01:52.566033Z"
    }
   },
   "cell_type": "code",
   "source": [
    "import xarray as xr\n",
    "\n",
    "file = r\"W:\\Sat_Project\\Processed\\VALID\\2022-12\\2022-12-06_19-30\\OR_ABI-L2-MCMIPC-M6_G16_s20223401931175_e20223401933555_c20223401934056.nc\"\n",
    "ds = xr.open_dataset(file)\n",
    "\n",
    "print(ds)  # or ds.attrs for metadata\n"
   ],
   "id": "680dad67a3950c99",
   "outputs": [
    {
     "name": "stdout",
     "output_type": "stream",
     "text": [
      "<xarray.Dataset> Size: 480MB\n",
      "Dimensions:                                 (y: 1500, x: 2500,\n",
      "                                             number_of_time_bounds: 2,\n",
      "                                             number_of_image_bounds: 2, band: 1)\n",
      "Coordinates: (12/37)\n",
      "    t                                       datetime64[ns] 8B ...\n",
      "  * y                                       (y) float32 6kB 0.1282 ... 0.04427\n",
      "  * x                                       (x) float32 10kB -0.1013 ... 0.03861\n",
      "    y_image                                 float32 4B ...\n",
      "    x_image                                 float32 4B ...\n",
      "    band_wavelength_C01                     (band) float32 4B ...\n",
      "    ...                                      ...\n",
      "    band_id_C11                             (band) int8 1B ...\n",
      "    band_id_C12                             (band) int8 1B ...\n",
      "    band_id_C13                             (band) int8 1B ...\n",
      "    band_id_C14                             (band) int8 1B ...\n",
      "    band_id_C15                             (band) int8 1B ...\n",
      "    band_id_C16                             (band) int8 1B ...\n",
      "Dimensions without coordinates: number_of_time_bounds, number_of_image_bounds,\n",
      "                                band\n",
      "Data variables: (12/124)\n",
      "    CMI_C01                                 (y, x) float32 15MB ...\n",
      "    DQF_C01                                 (y, x) float32 15MB ...\n",
      "    CMI_C02                                 (y, x) float32 15MB ...\n",
      "    DQF_C02                                 (y, x) float32 15MB ...\n",
      "    CMI_C03                                 (y, x) float32 15MB ...\n",
      "    DQF_C03                                 (y, x) float32 15MB ...\n",
      "    ...                                      ...\n",
      "    mean_brightness_temperature_C16         float32 4B ...\n",
      "    std_dev_brightness_temperature_C16      float32 4B ...\n",
      "    percent_uncorrectable_GRB_errors        float32 4B ...\n",
      "    percent_uncorrectable_L0_errors         float32 4B ...\n",
      "    dynamic_algorithm_input_data_container  int32 4B ...\n",
      "    algorithm_product_version_container     int32 4B ...\n",
      "Attributes: (12/29)\n",
      "    naming_authority:          gov.nesdis.noaa\n",
      "    Conventions:               CF-1.7\n",
      "    Metadata_Conventions:      Unidata Dataset Discovery v1.0\n",
      "    standard_name_vocabulary:  CF Standard Name Table (v35, 20 July 2016)\n",
      "    institution:               DOC/NOAA/NESDIS > U.S. Department of Commerce,...\n",
      "    project:                   GOES\n",
      "    ...                        ...\n",
      "    date_created:              2022-12-06T19:34:05.6Z\n",
      "    time_coverage_start:       2022-12-06T19:31:17.5Z\n",
      "    time_coverage_end:         2022-12-06T19:33:55.5Z\n",
      "    timeline_id:               ABI Mode 6\n",
      "    production_data_source:    Realtime\n",
      "    id:                        1c105fff-5092-4b0b-8d14-ad5625c435b8\n"
     ]
    }
   ],
   "execution_count": 4
  }
 ],
 "metadata": {
  "kernelspec": {
   "display_name": "Python 3",
   "language": "python",
   "name": "python3"
  },
  "language_info": {
   "codemirror_mode": {
    "name": "ipython",
    "version": 2
   },
   "file_extension": ".py",
   "mimetype": "text/x-python",
   "name": "python",
   "nbconvert_exporter": "python",
   "pygments_lexer": "ipython2",
   "version": "2.7.6"
  }
 },
 "nbformat": 4,
 "nbformat_minor": 5
}
